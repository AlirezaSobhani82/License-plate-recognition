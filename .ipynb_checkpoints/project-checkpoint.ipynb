{
 "cells": [
  {
   "cell_type": "code",
   "id": "c48ad49a",
   "metadata": {
    "ExecuteTime": {
     "end_time": "2025-07-22T10:17:18.329736Z",
     "start_time": "2025-07-22T10:17:18.321769Z"
    }
   },
   "source": [
    "import cv2\n",
    "import os\n",
    "import numpy as np\n",
    "from sklearn.linear_model import LogisticRegression\n",
    "from sklearn.model_selection import train_test_split\n",
    "from sklearn import metrics"
   ],
   "outputs": [],
   "execution_count": 12
  },
  {
   "metadata": {
    "ExecuteTime": {
     "end_time": "2025-07-22T09:47:22.357821Z",
     "start_time": "2025-07-22T09:47:22.343315Z"
    }
   },
   "cell_type": "code",
   "source": "files = os.listdir(\"D:\\\\10project Aiolearn\\\\Plaque detection\\\\pelak\\\\1\")",
   "id": "b1e8379549e5c3e9",
   "outputs": [],
   "execution_count": 2
  },
  {
   "metadata": {
    "ExecuteTime": {
     "end_time": "2025-07-22T09:47:23.079674Z",
     "start_time": "2025-07-22T09:47:23.019078Z"
    }
   },
   "cell_type": "code",
   "source": [
    "x = np.empty((0,256))\n",
    "y = np.array([])\n",
    "for file in files:\n",
    "    im = cv2.imread(\"D:\\\\10project Aiolearn\\\\Plaque detection\\\\pelak\\\\1\\\\\"+file)\n",
    "    im1 = cv2.resize(im,(8,32))\n",
    "    im2 = cv2.cvtColor(im1,cv2.COLOR_BGR2GRAY)\n",
    "    im3 = im2.flatten()\n",
    "    x = np.append(x,[im3],axis=0)\n",
    "    y = np.append(y,1)"
   ],
   "id": "bddb5e9bbc183e5",
   "outputs": [],
   "execution_count": 3
  },
  {
   "metadata": {
    "ExecuteTime": {
     "end_time": "2025-07-22T09:47:23.492122Z",
     "start_time": "2025-07-22T09:47:23.478281Z"
    }
   },
   "cell_type": "code",
   "source": "files = os.listdir(\"D:\\\\10project Aiolearn\\\\Plaque detection\\\\pelak\\\\2\")",
   "id": "8bcedeababef1744",
   "outputs": [],
   "execution_count": 4
  },
  {
   "metadata": {
    "ExecuteTime": {
     "end_time": "2025-07-22T09:47:24.173046Z",
     "start_time": "2025-07-22T09:47:24.002754Z"
    }
   },
   "cell_type": "code",
   "source": [
    "for file in files:\n",
    "    img = cv2.imread(\"D:\\\\10project Aiolearn\\\\Plaque detection\\\\pelak\\\\2\\\\\"+file)\n",
    "    img_1 = cv2.resize(img,(8,32))\n",
    "    img_2 = cv2.cvtColor(img_1,cv2.COLOR_BGR2GRAY)\n",
    "    img_3 = img_2.flatten()\n",
    "    x = np.append(x,[img_3],axis=0)\n",
    "    y = np.append(y,2)"
   ],
   "id": "3276babb0dd07820",
   "outputs": [],
   "execution_count": 5
  },
  {
   "metadata": {
    "ExecuteTime": {
     "end_time": "2025-07-22T09:47:24.882905Z",
     "start_time": "2025-07-22T09:47:24.842941Z"
    }
   },
   "cell_type": "code",
   "source": [
    "xtrain,xtest,ytrain,ytest = train_test_split(x,y,train_size=0.8,random_state=1)\n",
    "model = LogisticRegression()\n",
    "model.fit(xtrain,ytrain)\n",
    "pred = model.predict(xtest)"
   ],
   "id": "9fa4b98c6f4d297c",
   "outputs": [],
   "execution_count": 6
  },
  {
   "metadata": {},
   "cell_type": "code",
   "source": "pred",
   "id": "d40d3469ad139bbf",
   "outputs": [],
   "execution_count": null
  },
  {
   "metadata": {},
   "cell_type": "code",
   "source": "ytest",
   "id": "537e5dcffc63f046",
   "outputs": [],
   "execution_count": null
  },
  {
   "metadata": {
    "ExecuteTime": {
     "end_time": "2025-07-22T09:47:27.223699Z",
     "start_time": "2025-07-22T09:47:27.202457Z"
    }
   },
   "cell_type": "code",
   "source": [
    "score = metrics.accuracy_score(ytest,pred)\n",
    "score"
   ],
   "id": "b2c13248d3e3241",
   "outputs": [
    {
     "data": {
      "text/plain": [
       "0.9668874172185431"
      ]
     },
     "execution_count": 9,
     "metadata": {},
     "output_type": "execute_result"
    }
   ],
   "execution_count": 9
  },
  {
   "metadata": {
    "ExecuteTime": {
     "end_time": "2025-07-22T09:47:27.858843Z",
     "start_time": "2025-07-22T09:47:27.846294Z"
    }
   },
   "cell_type": "code",
   "source": [
    "x_test = np.empty((0,256))\n",
    "im_test = cv2.imread(\"D:\\\\10project Aiolearn\\\\Plaque detection\\\\pelak\\\\1\\\\1 (12).jpg\")\n",
    "im_test_1 = cv2.resize(im_test,(8,32))\n",
    "im_test_2 = cv2.cvtColor(im_test_1,cv2.COLOR_BGR2GRAY)\n",
    "im_test_3 = im_test_2.flatten()\n",
    "x_test = np.append(x_test,[im_test_3],axis=0)"
   ],
   "id": "df2700d553a6686e",
   "outputs": [],
   "execution_count": 10
  },
  {
   "metadata": {
    "ExecuteTime": {
     "end_time": "2025-07-22T09:47:28.351860Z",
     "start_time": "2025-07-22T09:47:28.336752Z"
    }
   },
   "cell_type": "code",
   "source": [
    "test_pred = model.predict(x_test)\n",
    "test_pred"
   ],
   "id": "7336ae325a410e98",
   "outputs": [
    {
     "data": {
      "text/plain": [
       "array([1.])"
      ]
     },
     "execution_count": 11,
     "metadata": {},
     "output_type": "execute_result"
    }
   ],
   "execution_count": 11
  },
  {
   "metadata": {},
   "cell_type": "code",
   "outputs": [],
   "execution_count": null,
   "source": "",
   "id": "47bc5492cde76503"
  }
 ],
 "metadata": {
  "kernelspec": {
   "display_name": "Python 3",
   "language": "python",
   "name": "python3"
  },
  "language_info": {
   "codemirror_mode": {
    "name": "ipython",
    "version": 2
   },
   "file_extension": ".py",
   "mimetype": "text/x-python",
   "name": "python",
   "nbconvert_exporter": "python",
   "pygments_lexer": "ipython2",
   "version": "3.13.2"
  }
 },
 "nbformat": 4,
 "nbformat_minor": 5
}
